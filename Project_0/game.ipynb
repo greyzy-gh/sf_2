{
 "cells": [
  {
   "cell_type": "code",
   "execution_count": 5,
   "metadata": {},
   "outputs": [],
   "source": [
    "import game2"
   ]
  },
  {
   "cell_type": "markdown",
   "metadata": {},
   "source": [
    "# Игра Угадай число"
   ]
  },
  {
   "cell_type": "code",
   "execution_count": 7,
   "metadata": {},
   "outputs": [
    {
     "name": "stdout",
     "output_type": "stream",
     "text": [
      "Ваш алгоритм угадывает число в среднем за: 101 попыток\n"
     ]
    },
    {
     "data": {
      "text/plain": [
       "101"
      ]
     },
     "execution_count": 7,
     "metadata": {},
     "output_type": "execute_result"
    }
   ],
   "source": [
    "game2.score_game(game2.random_predict)"
   ]
  },
  {
   "cell_type": "markdown",
   "metadata": {},
   "source": [
    "Примечание. Для того чтобы обратиться к функции из модуля game_v2, мы должны сначала обратиться к модулю game_v2, который мы импортировали выше, а затем через точку обратиться к функции, которая находится в этом модуле.\n",
    "\n",
    "На самом деле, выполнять код таким образом не совсем корректно — лучше указать, из какой библиотеки (в данном случае — соседний файл, game_v2.py) мы производим импорт. Корректный импорт будет выглядеть так:"
   ]
  },
  {
   "cell_type": "code",
   "execution_count": 16,
   "metadata": {},
   "outputs": [
    {
     "name": "stdout",
     "output_type": "stream",
     "text": [
      "Ваш алгоритм угадывает число в среднем за: 101 попыток\n"
     ]
    },
    {
     "data": {
      "text/plain": [
       "101"
      ]
     },
     "execution_count": 16,
     "metadata": {},
     "output_type": "execute_result"
    }
   ],
   "source": [
    "from game2 import score_game\n",
    "from game2 import random_predict\n",
    "\"\"\"\n",
    "либо вот так\n",
    "from game_v2 import score_game, random_predict\n",
    "\"\"\"\n",
    "score_game(random_predict) #вызов функции"
   ]
  },
  {
   "cell_type": "markdown",
   "metadata": {},
   "source": [
    "Тем не менее, иногда требуется скопировать в ноутбук и сам код (например, когда нам необходимо переслать только ноутбук, без файлов Python). После вставки в ячейку код будет выполняться точно так же, как и в случае с импортом, но уже напрямую.\n",
    "\n",
    "Также благодаря интерактивности в ноутбуке намного удобнее работать с отображением таблиц и визуализацией данных. Поэтому Jupyter Notebook чаще всего используется для исследования и предобработки данных, а построение и обучение ML-моделей, как правило, выносят в файлы .py. Но всё это — дело вкуса.\n",
    "\n",
    "Ещё одна особенность Jupyter Notebook в VS Code — возможность просмотра переменных. При изменении переменных мы также сможем увидеть результат этих изменений.\n",
    "\n",
    "Например, объявим в одной из ячеек несколько переменных:\n",
    "\n",
    "n = 10\n",
    "\n",
    "z = n\n",
    "\n",
    "n = 5\n",
    "\n",
    "С помощью меню Variables мы можем просмотреть значения всех глобальных переменных, которые объявлены в ноутбуке:"
   ]
  },
  {
   "cell_type": "code",
   "execution_count": 17,
   "metadata": {},
   "outputs": [],
   "source": [
    "n = 10\n",
    "\n",
    "z = n\n",
    "\n",
    "n = 6\n",
    "\n",
    "tt = 'tatata'\n",
    "\n"
   ]
  }
 ],
 "metadata": {
  "kernelspec": {
   "display_name": "Python 3.10.3 64-bit",
   "language": "python",
   "name": "python3"
  },
  "language_info": {
   "codemirror_mode": {
    "name": "ipython",
    "version": 3
   },
   "file_extension": ".py",
   "mimetype": "text/x-python",
   "name": "python",
   "nbconvert_exporter": "python",
   "pygments_lexer": "ipython3",
   "version": "3.10.3"
  },
  "orig_nbformat": 4,
  "vscode": {
   "interpreter": {
    "hash": "12f5bc48928294c340fbb49b67162a386014b34051b784da2945d9a66ca34078"
   }
  }
 },
 "nbformat": 4,
 "nbformat_minor": 2
}
